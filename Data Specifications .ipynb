{
 "cells": [
  {
   "cell_type": "markdown",
   "metadata": {},
   "source": [
    "Task: Finding how specifications affect price"
   ]
  },
  {
   "cell_type": "code",
   "execution_count": 2,
   "metadata": {},
   "outputs": [],
   "source": [
    "import numpy as np"
   ]
  },
  {
   "cell_type": "code",
   "execution_count": 3,
   "metadata": {},
   "outputs": [],
   "source": [
    "import pandas as pd"
   ]
  },
  {
   "cell_type": "code",
   "execution_count": 4,
   "metadata": {},
   "outputs": [],
   "source": [
    "task = pd.read_csv(r\"C:\\Users\\Mel\\Downloads\\Jumia_clean.csv\")"
   ]
  },
  {
   "cell_type": "code",
   "execution_count": 5,
   "metadata": {},
   "outputs": [
    {
     "data": {
      "text/html": [
       "<div>\n",
       "<style scoped>\n",
       "    .dataframe tbody tr th:only-of-type {\n",
       "        vertical-align: middle;\n",
       "    }\n",
       "\n",
       "    .dataframe tbody tr th {\n",
       "        vertical-align: top;\n",
       "    }\n",
       "\n",
       "    .dataframe thead th {\n",
       "        text-align: right;\n",
       "    }\n",
       "</style>\n",
       "<table border=\"1\" class=\"dataframe\">\n",
       "  <thead>\n",
       "    <tr style=\"text-align: right;\">\n",
       "      <th></th>\n",
       "      <th>brand</th>\n",
       "      <th>current_price</th>\n",
       "      <th>old_price</th>\n",
       "      <th>discount</th>\n",
       "      <th>description</th>\n",
       "      <th>ratings</th>\n",
       "      <th>times_reviewed</th>\n",
       "      <th>rom</th>\n",
       "      <th>ram</th>\n",
       "      <th>battery</th>\n",
       "      <th>camera</th>\n",
       "      <th>sim port</th>\n",
       "      <th>screen_dim</th>\n",
       "      <th>android_ver</th>\n",
       "    </tr>\n",
       "  </thead>\n",
       "  <tbody>\n",
       "    <tr>\n",
       "      <th>0</th>\n",
       "      <td>Gionee</td>\n",
       "      <td>48000</td>\n",
       "      <td>73630</td>\n",
       "      <td>-35</td>\n",
       "      <td>Gionee K3 (M100) 4GB+64GB 6.22 Inch HD+ Androi...</td>\n",
       "      <td>3.50</td>\n",
       "      <td>10</td>\n",
       "      <td>64.0</td>\n",
       "      <td>4.0</td>\n",
       "      <td>5000.0</td>\n",
       "      <td>13.0</td>\n",
       "      <td>Dual SIM</td>\n",
       "      <td>6.22</td>\n",
       "      <td>8.1</td>\n",
       "    </tr>\n",
       "    <tr>\n",
       "      <th>1</th>\n",
       "      <td>Nokia</td>\n",
       "      <td>59520</td>\n",
       "      <td>119660</td>\n",
       "      <td>-50</td>\n",
       "      <td>7， 5.2-inch (4GB, 64GB ROM) Android 7.1, 16MP ...</td>\n",
       "      <td>3.80</td>\n",
       "      <td>10</td>\n",
       "      <td>64.0</td>\n",
       "      <td>4.0</td>\n",
       "      <td>3000.0</td>\n",
       "      <td>16.0</td>\n",
       "      <td>Dual Sim</td>\n",
       "      <td>5.20</td>\n",
       "      <td>7.1</td>\n",
       "    </tr>\n",
       "    <tr>\n",
       "      <th>2</th>\n",
       "      <td>UMIDIGI</td>\n",
       "      <td>25990</td>\n",
       "      <td>29990</td>\n",
       "      <td>-13</td>\n",
       "      <td>A3S Android 10 Global Band 3950mAh 5.7\" Smartp...</td>\n",
       "      <td>4.30</td>\n",
       "      <td>99</td>\n",
       "      <td>32.0</td>\n",
       "      <td>4.0</td>\n",
       "      <td>3950.0</td>\n",
       "      <td>13.0</td>\n",
       "      <td>Triple Slots</td>\n",
       "      <td>5.70</td>\n",
       "      <td>10.0</td>\n",
       "    </tr>\n",
       "    <tr>\n",
       "      <th>3</th>\n",
       "      <td>Nokia</td>\n",
       "      <td>42990</td>\n",
       "      <td>70485</td>\n",
       "      <td>-39</td>\n",
       "      <td>3.2 3GB RAM 32GB 6.26 Inch 13MP Camera Dual SI...</td>\n",
       "      <td>4.05</td>\n",
       "      <td>104</td>\n",
       "      <td>32.0</td>\n",
       "      <td>3.0</td>\n",
       "      <td>4000.0</td>\n",
       "      <td>13.0</td>\n",
       "      <td>Dual SIM</td>\n",
       "      <td>6.26</td>\n",
       "      <td>9.0</td>\n",
       "    </tr>\n",
       "    <tr>\n",
       "      <th>4</th>\n",
       "      <td>UMIDIGI</td>\n",
       "      <td>25990</td>\n",
       "      <td>29990</td>\n",
       "      <td>-13</td>\n",
       "      <td>A3S Android 10 Global Band 3950mAh 5.7\" Smartp...</td>\n",
       "      <td>3.90</td>\n",
       "      <td>148</td>\n",
       "      <td>32.0</td>\n",
       "      <td>4.0</td>\n",
       "      <td>3950.0</td>\n",
       "      <td>13.0</td>\n",
       "      <td>Triple Slots</td>\n",
       "      <td>5.70</td>\n",
       "      <td>10.0</td>\n",
       "    </tr>\n",
       "  </tbody>\n",
       "</table>\n",
       "</div>"
      ],
      "text/plain": [
       "     brand  current_price  old_price  discount  \\\n",
       "0   Gionee          48000      73630       -35   \n",
       "1    Nokia          59520     119660       -50   \n",
       "2  UMIDIGI          25990      29990       -13   \n",
       "3    Nokia          42990      70485       -39   \n",
       "4  UMIDIGI          25990      29990       -13   \n",
       "\n",
       "                                         description  ratings  times_reviewed  \\\n",
       "0  Gionee K3 (M100) 4GB+64GB 6.22 Inch HD+ Androi...     3.50              10   \n",
       "1  7， 5.2-inch (4GB, 64GB ROM) Android 7.1, 16MP ...     3.80              10   \n",
       "2  A3S Android 10 Global Band 3950mAh 5.7\" Smartp...     4.30              99   \n",
       "3  3.2 3GB RAM 32GB 6.26 Inch 13MP Camera Dual SI...     4.05             104   \n",
       "4  A3S Android 10 Global Band 3950mAh 5.7\" Smartp...     3.90             148   \n",
       "\n",
       "    rom  ram  battery  camera      sim port  screen_dim  android_ver  \n",
       "0  64.0  4.0   5000.0    13.0      Dual SIM        6.22          8.1  \n",
       "1  64.0  4.0   3000.0    16.0      Dual Sim        5.20          7.1  \n",
       "2  32.0  4.0   3950.0    13.0  Triple Slots        5.70         10.0  \n",
       "3  32.0  3.0   4000.0    13.0      Dual SIM        6.26          9.0  \n",
       "4  32.0  4.0   3950.0    13.0  Triple Slots        5.70         10.0  "
      ]
     },
     "execution_count": 5,
     "metadata": {},
     "output_type": "execute_result"
    }
   ],
   "source": [
    "task.head()"
   ]
  },
  {
   "cell_type": "code",
   "execution_count": 6,
   "metadata": {},
   "outputs": [
    {
     "data": {
      "text/plain": [
       "0        35.0\n",
       "1        38.0\n",
       "2       425.7\n",
       "3       421.2\n",
       "4       577.2\n",
       "        ...  \n",
       "503       5.0\n",
       "504       5.0\n",
       "505     901.0\n",
       "506       5.0\n",
       "507    1025.2\n",
       "Length: 508, dtype: float64"
      ]
     },
     "execution_count": 6,
     "metadata": {},
     "output_type": "execute_result"
    }
   ],
   "source": [
    "#The effect of rating and times reviewed\n",
    "task['ratings']*task['times_reviewed']"
   ]
  },
  {
   "cell_type": "code",
   "execution_count": 7,
   "metadata": {},
   "outputs": [],
   "source": [
    "task['holistic_review'] = task['ratings']*task['times_reviewed']"
   ]
  },
  {
   "cell_type": "code",
   "execution_count": 8,
   "metadata": {},
   "outputs": [
    {
     "data": {
      "text/html": [
       "<div>\n",
       "<style scoped>\n",
       "    .dataframe tbody tr th:only-of-type {\n",
       "        vertical-align: middle;\n",
       "    }\n",
       "\n",
       "    .dataframe tbody tr th {\n",
       "        vertical-align: top;\n",
       "    }\n",
       "\n",
       "    .dataframe thead th {\n",
       "        text-align: right;\n",
       "    }\n",
       "</style>\n",
       "<table border=\"1\" class=\"dataframe\">\n",
       "  <thead>\n",
       "    <tr style=\"text-align: right;\">\n",
       "      <th></th>\n",
       "      <th>current_price</th>\n",
       "      <th>old_price</th>\n",
       "      <th>discount</th>\n",
       "      <th>ratings</th>\n",
       "      <th>times_reviewed</th>\n",
       "      <th>rom</th>\n",
       "      <th>ram</th>\n",
       "      <th>battery</th>\n",
       "      <th>camera</th>\n",
       "      <th>screen_dim</th>\n",
       "      <th>android_ver</th>\n",
       "      <th>holistic_review</th>\n",
       "    </tr>\n",
       "  </thead>\n",
       "  <tbody>\n",
       "    <tr>\n",
       "      <th>current_price</th>\n",
       "      <td>1.000000</td>\n",
       "      <td>0.293866</td>\n",
       "      <td>0.267000</td>\n",
       "      <td>0.090349</td>\n",
       "      <td>-0.062861</td>\n",
       "      <td>0.594765</td>\n",
       "      <td>0.564471</td>\n",
       "      <td>0.116763</td>\n",
       "      <td>0.292390</td>\n",
       "      <td>0.345991</td>\n",
       "      <td>0.149642</td>\n",
       "      <td>-0.058744</td>\n",
       "    </tr>\n",
       "    <tr>\n",
       "      <th>old_price</th>\n",
       "      <td>0.293866</td>\n",
       "      <td>1.000000</td>\n",
       "      <td>-0.497900</td>\n",
       "      <td>0.093147</td>\n",
       "      <td>-0.043753</td>\n",
       "      <td>0.428723</td>\n",
       "      <td>0.455032</td>\n",
       "      <td>0.256389</td>\n",
       "      <td>0.000754</td>\n",
       "      <td>0.222505</td>\n",
       "      <td>0.081872</td>\n",
       "      <td>-0.041270</td>\n",
       "    </tr>\n",
       "    <tr>\n",
       "      <th>discount</th>\n",
       "      <td>0.267000</td>\n",
       "      <td>-0.497900</td>\n",
       "      <td>1.000000</td>\n",
       "      <td>0.063275</td>\n",
       "      <td>0.030519</td>\n",
       "      <td>0.111776</td>\n",
       "      <td>0.008153</td>\n",
       "      <td>-0.113495</td>\n",
       "      <td>0.141399</td>\n",
       "      <td>0.210357</td>\n",
       "      <td>0.082988</td>\n",
       "      <td>0.032011</td>\n",
       "    </tr>\n",
       "    <tr>\n",
       "      <th>ratings</th>\n",
       "      <td>0.090349</td>\n",
       "      <td>0.093147</td>\n",
       "      <td>0.063275</td>\n",
       "      <td>1.000000</td>\n",
       "      <td>0.019532</td>\n",
       "      <td>0.111806</td>\n",
       "      <td>0.075772</td>\n",
       "      <td>-0.011325</td>\n",
       "      <td>0.098792</td>\n",
       "      <td>0.083765</td>\n",
       "      <td>0.031119</td>\n",
       "      <td>0.025975</td>\n",
       "    </tr>\n",
       "    <tr>\n",
       "      <th>times_reviewed</th>\n",
       "      <td>-0.062861</td>\n",
       "      <td>-0.043753</td>\n",
       "      <td>0.030519</td>\n",
       "      <td>0.019532</td>\n",
       "      <td>1.000000</td>\n",
       "      <td>-0.087630</td>\n",
       "      <td>-0.132529</td>\n",
       "      <td>-0.059410</td>\n",
       "      <td>-0.063851</td>\n",
       "      <td>0.005668</td>\n",
       "      <td>-0.002212</td>\n",
       "      <td>0.999564</td>\n",
       "    </tr>\n",
       "    <tr>\n",
       "      <th>rom</th>\n",
       "      <td>0.594765</td>\n",
       "      <td>0.428723</td>\n",
       "      <td>0.111776</td>\n",
       "      <td>0.111806</td>\n",
       "      <td>-0.087630</td>\n",
       "      <td>1.000000</td>\n",
       "      <td>0.805185</td>\n",
       "      <td>0.228497</td>\n",
       "      <td>0.396609</td>\n",
       "      <td>0.448779</td>\n",
       "      <td>0.167179</td>\n",
       "      <td>-0.084770</td>\n",
       "    </tr>\n",
       "    <tr>\n",
       "      <th>ram</th>\n",
       "      <td>0.564471</td>\n",
       "      <td>0.455032</td>\n",
       "      <td>0.008153</td>\n",
       "      <td>0.075772</td>\n",
       "      <td>-0.132529</td>\n",
       "      <td>0.805185</td>\n",
       "      <td>1.000000</td>\n",
       "      <td>0.190587</td>\n",
       "      <td>0.398903</td>\n",
       "      <td>0.355903</td>\n",
       "      <td>0.138399</td>\n",
       "      <td>-0.130353</td>\n",
       "    </tr>\n",
       "    <tr>\n",
       "      <th>battery</th>\n",
       "      <td>0.116763</td>\n",
       "      <td>0.256389</td>\n",
       "      <td>-0.113495</td>\n",
       "      <td>-0.011325</td>\n",
       "      <td>-0.059410</td>\n",
       "      <td>0.228497</td>\n",
       "      <td>0.190587</td>\n",
       "      <td>1.000000</td>\n",
       "      <td>-0.009293</td>\n",
       "      <td>0.180872</td>\n",
       "      <td>0.021562</td>\n",
       "      <td>-0.058664</td>\n",
       "    </tr>\n",
       "    <tr>\n",
       "      <th>camera</th>\n",
       "      <td>0.292390</td>\n",
       "      <td>0.000754</td>\n",
       "      <td>0.141399</td>\n",
       "      <td>0.098792</td>\n",
       "      <td>-0.063851</td>\n",
       "      <td>0.396609</td>\n",
       "      <td>0.398903</td>\n",
       "      <td>-0.009293</td>\n",
       "      <td>1.000000</td>\n",
       "      <td>0.294254</td>\n",
       "      <td>0.200968</td>\n",
       "      <td>-0.062009</td>\n",
       "    </tr>\n",
       "    <tr>\n",
       "      <th>screen_dim</th>\n",
       "      <td>0.345991</td>\n",
       "      <td>0.222505</td>\n",
       "      <td>0.210357</td>\n",
       "      <td>0.083765</td>\n",
       "      <td>0.005668</td>\n",
       "      <td>0.448779</td>\n",
       "      <td>0.355903</td>\n",
       "      <td>0.180872</td>\n",
       "      <td>0.294254</td>\n",
       "      <td>1.000000</td>\n",
       "      <td>0.280667</td>\n",
       "      <td>0.009939</td>\n",
       "    </tr>\n",
       "    <tr>\n",
       "      <th>android_ver</th>\n",
       "      <td>0.149642</td>\n",
       "      <td>0.081872</td>\n",
       "      <td>0.082988</td>\n",
       "      <td>0.031119</td>\n",
       "      <td>-0.002212</td>\n",
       "      <td>0.167179</td>\n",
       "      <td>0.138399</td>\n",
       "      <td>0.021562</td>\n",
       "      <td>0.200968</td>\n",
       "      <td>0.280667</td>\n",
       "      <td>1.000000</td>\n",
       "      <td>-0.000039</td>\n",
       "    </tr>\n",
       "    <tr>\n",
       "      <th>holistic_review</th>\n",
       "      <td>-0.058744</td>\n",
       "      <td>-0.041270</td>\n",
       "      <td>0.032011</td>\n",
       "      <td>0.025975</td>\n",
       "      <td>0.999564</td>\n",
       "      <td>-0.084770</td>\n",
       "      <td>-0.130353</td>\n",
       "      <td>-0.058664</td>\n",
       "      <td>-0.062009</td>\n",
       "      <td>0.009939</td>\n",
       "      <td>-0.000039</td>\n",
       "      <td>1.000000</td>\n",
       "    </tr>\n",
       "  </tbody>\n",
       "</table>\n",
       "</div>"
      ],
      "text/plain": [
       "                 current_price  old_price  discount   ratings  times_reviewed  \\\n",
       "current_price         1.000000   0.293866  0.267000  0.090349       -0.062861   \n",
       "old_price             0.293866   1.000000 -0.497900  0.093147       -0.043753   \n",
       "discount              0.267000  -0.497900  1.000000  0.063275        0.030519   \n",
       "ratings               0.090349   0.093147  0.063275  1.000000        0.019532   \n",
       "times_reviewed       -0.062861  -0.043753  0.030519  0.019532        1.000000   \n",
       "rom                   0.594765   0.428723  0.111776  0.111806       -0.087630   \n",
       "ram                   0.564471   0.455032  0.008153  0.075772       -0.132529   \n",
       "battery               0.116763   0.256389 -0.113495 -0.011325       -0.059410   \n",
       "camera                0.292390   0.000754  0.141399  0.098792       -0.063851   \n",
       "screen_dim            0.345991   0.222505  0.210357  0.083765        0.005668   \n",
       "android_ver           0.149642   0.081872  0.082988  0.031119       -0.002212   \n",
       "holistic_review      -0.058744  -0.041270  0.032011  0.025975        0.999564   \n",
       "\n",
       "                      rom       ram   battery    camera  screen_dim  \\\n",
       "current_price    0.594765  0.564471  0.116763  0.292390    0.345991   \n",
       "old_price        0.428723  0.455032  0.256389  0.000754    0.222505   \n",
       "discount         0.111776  0.008153 -0.113495  0.141399    0.210357   \n",
       "ratings          0.111806  0.075772 -0.011325  0.098792    0.083765   \n",
       "times_reviewed  -0.087630 -0.132529 -0.059410 -0.063851    0.005668   \n",
       "rom              1.000000  0.805185  0.228497  0.396609    0.448779   \n",
       "ram              0.805185  1.000000  0.190587  0.398903    0.355903   \n",
       "battery          0.228497  0.190587  1.000000 -0.009293    0.180872   \n",
       "camera           0.396609  0.398903 -0.009293  1.000000    0.294254   \n",
       "screen_dim       0.448779  0.355903  0.180872  0.294254    1.000000   \n",
       "android_ver      0.167179  0.138399  0.021562  0.200968    0.280667   \n",
       "holistic_review -0.084770 -0.130353 -0.058664 -0.062009    0.009939   \n",
       "\n",
       "                 android_ver  holistic_review  \n",
       "current_price       0.149642        -0.058744  \n",
       "old_price           0.081872        -0.041270  \n",
       "discount            0.082988         0.032011  \n",
       "ratings             0.031119         0.025975  \n",
       "times_reviewed     -0.002212         0.999564  \n",
       "rom                 0.167179        -0.084770  \n",
       "ram                 0.138399        -0.130353  \n",
       "battery             0.021562        -0.058664  \n",
       "camera              0.200968        -0.062009  \n",
       "screen_dim          0.280667         0.009939  \n",
       "android_ver         1.000000        -0.000039  \n",
       "holistic_review    -0.000039         1.000000  "
      ]
     },
     "execution_count": 8,
     "metadata": {},
     "output_type": "execute_result"
    }
   ],
   "source": [
    "#correlation helps you find the relationship between two columns\n",
    "task.corr()"
   ]
  },
  {
   "cell_type": "code",
   "execution_count": 9,
   "metadata": {},
   "outputs": [],
   "source": [
    "#the higher the number, the higher the direct relationship, if you have a negative number, the higher the inverse relationship\n",
    "#from 0.0 - 0.3 it is low, 0.3 - 0.5 it is medium, 0.5 - 1 it is high"
   ]
  },
  {
   "cell_type": "code",
   "execution_count": 27,
   "metadata": {},
   "outputs": [
    {
     "name": "stdout",
     "output_type": "stream",
     "text": [
      "From our correlation table we can see that the rom and ram affect the current price more than any other specification,\n",
      "        with ram vs current price giving 0.564471, and rom vs current price giving 0.5947665 \n"
     ]
    }
   ],
   "source": [
    "print(\"\"\"From our correlation table we can see that the rom and ram affect the current price more than any other specification,\n",
    "        with ram vs current price giving 0.564471, and rom vs current price giving 0.5947665 \"\"\")"
   ]
  },
  {
   "cell_type": "markdown",
   "metadata": {},
   "source": [
    "### Analysis To confirm our Correlation Table"
   ]
  },
  {
   "cell_type": "code",
   "execution_count": 13,
   "metadata": {
    "scrolled": true
   },
   "outputs": [
    {
     "data": {
      "text/plain": [
       "Samsung          71\n",
       "Gionee           56\n",
       "Nokia            46\n",
       "Huawei           36\n",
       "Tecno            33\n",
       "XIAOMI           30\n",
       "Infinix          23\n",
       "Itel             20\n",
       "LG               20\n",
       "Blackview        19\n",
       "Oukitel          16\n",
       "Lenovo           11\n",
       "Letv             11\n",
       "Oppo             10\n",
       "Cubot            10\n",
       "Doogee            9\n",
       "UMIDIGI           9\n",
       "Leagoo            9\n",
       "Ulefone           7\n",
       "Sony              5\n",
       "Vernee            4\n",
       "Motorola          4\n",
       "Fero              4\n",
       "Homtom            3\n",
       "Elephone          3\n",
       "Htc               3\n",
       "Asus              3\n",
       "Nomu              2\n",
       "Honor             2\n",
       "Sharp             2\n",
       "Hoot              2\n",
       "Gome              2\n",
       "Arashi            1\n",
       "Hisense           1\n",
       "M Horse           1\n",
       "Blackberry        1\n",
       "Leeco             1\n",
       "Alcatel           1\n",
       "Bontel            1\n",
       "AfriOne           1\n",
       "Partner           1\n",
       "Sailf             1\n",
       "Kismo             1\n",
       "Elite             1\n",
       "Leagoo Lead 7     1\n",
       "Letv Leeco        1\n",
       "Unicorn           1\n",
       "Oneplus           1\n",
       "Desire            1\n",
       "SOYES             1\n",
       "Melrose           1\n",
       "ZTE               1\n",
       "Cool Pad          1\n",
       "Jodom             1\n",
       "Swiss             1\n",
       "Name: brand, dtype: int64"
      ]
     },
     "execution_count": 13,
     "metadata": {},
     "output_type": "execute_result"
    }
   ],
   "source": [
    "task['brand'].value_counts()"
   ]
  },
  {
   "cell_type": "code",
   "execution_count": 16,
   "metadata": {},
   "outputs": [
    {
     "data": {
      "text/plain": [
       "Index(['Samsung', 'Gionee', 'Nokia', 'Huawei', 'Tecno', 'XIAOMI', 'Infinix',\n",
       "       'Itel', 'LG', 'Blackview', 'Oukitel', 'Lenovo', 'Letv', 'Oppo', 'Cubot',\n",
       "       'Doogee', 'UMIDIGI', 'Leagoo', 'Ulefone', 'Sony', 'Vernee', 'Motorola',\n",
       "       'Fero'],\n",
       "      dtype='object')"
      ]
     },
     "execution_count": 16,
     "metadata": {},
     "output_type": "execute_result"
    }
   ],
   "source": [
    "#removing the phones with counts less than 3\n",
    "brands = task.brand.value_counts()[task.brand.value_counts() > 3].index\n",
    "brands"
   ]
  },
  {
   "cell_type": "code",
   "execution_count": 17,
   "metadata": {},
   "outputs": [],
   "source": [
    "confirmed_br = task[task['brand'].isin(brands)]"
   ]
  },
  {
   "cell_type": "code",
   "execution_count": 19,
   "metadata": {},
   "outputs": [
    {
     "data": {
      "text/plain": [
       "23"
      ]
     },
     "execution_count": 19,
     "metadata": {},
     "output_type": "execute_result"
    }
   ],
   "source": [
    "len(confirmed_br['brand'].value_counts())"
   ]
  },
  {
   "cell_type": "code",
   "execution_count": 21,
   "metadata": {},
   "outputs": [],
   "source": [
    "#Finding where 50% of the phone prices(median price) fall in (based on the dataset)"
   ]
  },
  {
   "cell_type": "code",
   "execution_count": 22,
   "metadata": {},
   "outputs": [
    {
     "data": {
      "text/plain": [
       "53990.0"
      ]
     },
     "execution_count": 22,
     "metadata": {},
     "output_type": "execute_result"
    }
   ],
   "source": [
    "confirmed_br['current_price'].median()"
   ]
  },
  {
   "cell_type": "code",
   "execution_count": 23,
   "metadata": {},
   "outputs": [],
   "source": [
    "low_med = confirmed_br[confirmed_br['current_price'] < confirmed_br['current_price'].median()]\n",
    "high_med = confirmed_br[confirmed_br['current_price'] > confirmed_br['current_price'].median()]"
   ]
  },
  {
   "cell_type": "code",
   "execution_count": 24,
   "metadata": {},
   "outputs": [
    {
     "data": {
      "text/plain": [
       "50.818897637795274"
      ]
     },
     "execution_count": 24,
     "metadata": {},
     "output_type": "execute_result"
    }
   ],
   "source": [
    "task['rom'].mean()"
   ]
  },
  {
   "cell_type": "code",
   "execution_count": 25,
   "metadata": {},
   "outputs": [
    {
     "data": {
      "text/plain": [
       "72.31168831168831"
      ]
     },
     "execution_count": 25,
     "metadata": {},
     "output_type": "execute_result"
    }
   ],
   "source": [
    "high_med['rom'].mean()"
   ]
  },
  {
   "cell_type": "code",
   "execution_count": 26,
   "metadata": {},
   "outputs": [
    {
     "data": {
      "text/plain": [
       "31.22077922077922"
      ]
     },
     "execution_count": 26,
     "metadata": {},
     "output_type": "execute_result"
    }
   ],
   "source": [
    "low_med['rom'].mean()"
   ]
  },
  {
   "cell_type": "code",
   "execution_count": 29,
   "metadata": {},
   "outputs": [
    {
     "data": {
      "text/plain": [
       "3.702755905511811"
      ]
     },
     "execution_count": 29,
     "metadata": {},
     "output_type": "execute_result"
    }
   ],
   "source": [
    "task['ram'].mean()"
   ]
  },
  {
   "cell_type": "code",
   "execution_count": 30,
   "metadata": {},
   "outputs": [
    {
     "data": {
      "text/plain": [
       "4.67965367965368"
      ]
     },
     "execution_count": 30,
     "metadata": {},
     "output_type": "execute_result"
    }
   ],
   "source": [
    "high_med['ram'].mean()"
   ]
  },
  {
   "cell_type": "code",
   "execution_count": 31,
   "metadata": {},
   "outputs": [
    {
     "data": {
      "text/plain": [
       "2.7965367965367967"
      ]
     },
     "execution_count": 31,
     "metadata": {},
     "output_type": "execute_result"
    }
   ],
   "source": [
    "low_med['ram'].mean()"
   ]
  },
  {
   "cell_type": "code",
   "execution_count": 28,
   "metadata": {},
   "outputs": [],
   "source": [
    "#This analysis tells us that phones from the lower median price have a lower rom & ram\n",
    "# and phones from the higher median price have a higher rom & ram"
   ]
  },
  {
   "cell_type": "code",
   "execution_count": 32,
   "metadata": {},
   "outputs": [
    {
     "name": "stdout",
     "output_type": "stream",
     "text": [
      "This analysis confirms the information given to us by our correlation table\n",
      "        Hence, lower cost phones will come with lower rom & ram and higer cost phones will come with a higher rom & ram\n"
     ]
    }
   ],
   "source": [
    "print(\"\"\"This analysis confirms the information given to us by our correlation table\n",
    "        Hence, lower cost phones will come with lower rom & ram and higer cost phones will come with a higher rom & ram\"\"\")"
   ]
  }
 ],
 "metadata": {
  "kernelspec": {
   "display_name": "Python 3",
   "language": "python",
   "name": "python3"
  },
  "language_info": {
   "codemirror_mode": {
    "name": "ipython",
    "version": 3
   },
   "file_extension": ".py",
   "mimetype": "text/x-python",
   "name": "python",
   "nbconvert_exporter": "python",
   "pygments_lexer": "ipython3",
   "version": "3.8.5"
  }
 },
 "nbformat": 4,
 "nbformat_minor": 4
}
