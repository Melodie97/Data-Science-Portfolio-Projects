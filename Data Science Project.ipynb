{
 "cells": [
  {
   "cell_type": "markdown",
   "metadata": {},
   "source": [
    "Task: A business is starting up and has come to you to recommend the best low cost phones to buy. Using the appropriate columns within the dataset, recommend the low cost phones with good specifications."
   ]
  },
  {
   "cell_type": "code",
   "execution_count": 1,
   "metadata": {},
   "outputs": [],
   "source": [
    "import pandas as pd\n",
    "import numpy as np"
   ]
  },
  {
   "cell_type": "code",
   "execution_count": 2,
   "metadata": {},
   "outputs": [],
   "source": [
    "task = pd.read_csv(r\"C:\\Users\\Mel\\Downloads\\Jumia_clean.csv\")"
   ]
  },
  {
   "cell_type": "code",
   "execution_count": 3,
   "metadata": {},
   "outputs": [
    {
     "data": {
      "text/html": [
       "<div>\n",
       "<style scoped>\n",
       "    .dataframe tbody tr th:only-of-type {\n",
       "        vertical-align: middle;\n",
       "    }\n",
       "\n",
       "    .dataframe tbody tr th {\n",
       "        vertical-align: top;\n",
       "    }\n",
       "\n",
       "    .dataframe thead th {\n",
       "        text-align: right;\n",
       "    }\n",
       "</style>\n",
       "<table border=\"1\" class=\"dataframe\">\n",
       "  <thead>\n",
       "    <tr style=\"text-align: right;\">\n",
       "      <th></th>\n",
       "      <th>brand</th>\n",
       "      <th>current_price</th>\n",
       "      <th>old_price</th>\n",
       "      <th>discount</th>\n",
       "      <th>description</th>\n",
       "      <th>ratings</th>\n",
       "      <th>times_reviewed</th>\n",
       "      <th>rom</th>\n",
       "      <th>ram</th>\n",
       "      <th>battery</th>\n",
       "      <th>camera</th>\n",
       "      <th>sim port</th>\n",
       "      <th>screen_dim</th>\n",
       "      <th>android_ver</th>\n",
       "    </tr>\n",
       "  </thead>\n",
       "  <tbody>\n",
       "    <tr>\n",
       "      <th>0</th>\n",
       "      <td>Gionee</td>\n",
       "      <td>48000</td>\n",
       "      <td>73630</td>\n",
       "      <td>-35</td>\n",
       "      <td>Gionee K3 (M100) 4GB+64GB 6.22 Inch HD+ Androi...</td>\n",
       "      <td>3.50</td>\n",
       "      <td>10</td>\n",
       "      <td>64.0</td>\n",
       "      <td>4.0</td>\n",
       "      <td>5000.0</td>\n",
       "      <td>13.0</td>\n",
       "      <td>Dual SIM</td>\n",
       "      <td>6.22</td>\n",
       "      <td>8.1</td>\n",
       "    </tr>\n",
       "    <tr>\n",
       "      <th>1</th>\n",
       "      <td>Nokia</td>\n",
       "      <td>59520</td>\n",
       "      <td>119660</td>\n",
       "      <td>-50</td>\n",
       "      <td>7， 5.2-inch (4GB, 64GB ROM) Android 7.1, 16MP ...</td>\n",
       "      <td>3.80</td>\n",
       "      <td>10</td>\n",
       "      <td>64.0</td>\n",
       "      <td>4.0</td>\n",
       "      <td>3000.0</td>\n",
       "      <td>16.0</td>\n",
       "      <td>Dual Sim</td>\n",
       "      <td>5.20</td>\n",
       "      <td>7.1</td>\n",
       "    </tr>\n",
       "    <tr>\n",
       "      <th>2</th>\n",
       "      <td>UMIDIGI</td>\n",
       "      <td>25990</td>\n",
       "      <td>29990</td>\n",
       "      <td>-13</td>\n",
       "      <td>A3S Android 10 Global Band 3950mAh 5.7\" Smartp...</td>\n",
       "      <td>4.30</td>\n",
       "      <td>99</td>\n",
       "      <td>32.0</td>\n",
       "      <td>4.0</td>\n",
       "      <td>3950.0</td>\n",
       "      <td>13.0</td>\n",
       "      <td>Triple Slots</td>\n",
       "      <td>5.70</td>\n",
       "      <td>10.0</td>\n",
       "    </tr>\n",
       "    <tr>\n",
       "      <th>3</th>\n",
       "      <td>Nokia</td>\n",
       "      <td>42990</td>\n",
       "      <td>70485</td>\n",
       "      <td>-39</td>\n",
       "      <td>3.2 3GB RAM 32GB 6.26 Inch 13MP Camera Dual SI...</td>\n",
       "      <td>4.05</td>\n",
       "      <td>104</td>\n",
       "      <td>32.0</td>\n",
       "      <td>3.0</td>\n",
       "      <td>4000.0</td>\n",
       "      <td>13.0</td>\n",
       "      <td>Dual SIM</td>\n",
       "      <td>6.26</td>\n",
       "      <td>9.0</td>\n",
       "    </tr>\n",
       "    <tr>\n",
       "      <th>4</th>\n",
       "      <td>UMIDIGI</td>\n",
       "      <td>25990</td>\n",
       "      <td>29990</td>\n",
       "      <td>-13</td>\n",
       "      <td>A3S Android 10 Global Band 3950mAh 5.7\" Smartp...</td>\n",
       "      <td>3.90</td>\n",
       "      <td>148</td>\n",
       "      <td>32.0</td>\n",
       "      <td>4.0</td>\n",
       "      <td>3950.0</td>\n",
       "      <td>13.0</td>\n",
       "      <td>Triple Slots</td>\n",
       "      <td>5.70</td>\n",
       "      <td>10.0</td>\n",
       "    </tr>\n",
       "  </tbody>\n",
       "</table>\n",
       "</div>"
      ],
      "text/plain": [
       "     brand  current_price  old_price  discount  \\\n",
       "0   Gionee          48000      73630       -35   \n",
       "1    Nokia          59520     119660       -50   \n",
       "2  UMIDIGI          25990      29990       -13   \n",
       "3    Nokia          42990      70485       -39   \n",
       "4  UMIDIGI          25990      29990       -13   \n",
       "\n",
       "                                         description  ratings  times_reviewed  \\\n",
       "0  Gionee K3 (M100) 4GB+64GB 6.22 Inch HD+ Androi...     3.50              10   \n",
       "1  7， 5.2-inch (4GB, 64GB ROM) Android 7.1, 16MP ...     3.80              10   \n",
       "2  A3S Android 10 Global Band 3950mAh 5.7\" Smartp...     4.30              99   \n",
       "3  3.2 3GB RAM 32GB 6.26 Inch 13MP Camera Dual SI...     4.05             104   \n",
       "4  A3S Android 10 Global Band 3950mAh 5.7\" Smartp...     3.90             148   \n",
       "\n",
       "    rom  ram  battery  camera      sim port  screen_dim  android_ver  \n",
       "0  64.0  4.0   5000.0    13.0      Dual SIM        6.22          8.1  \n",
       "1  64.0  4.0   3000.0    16.0      Dual Sim        5.20          7.1  \n",
       "2  32.0  4.0   3950.0    13.0  Triple Slots        5.70         10.0  \n",
       "3  32.0  3.0   4000.0    13.0      Dual SIM        6.26          9.0  \n",
       "4  32.0  4.0   3950.0    13.0  Triple Slots        5.70         10.0  "
      ]
     },
     "execution_count": 3,
     "metadata": {},
     "output_type": "execute_result"
    }
   ],
   "source": [
    "task.head()"
   ]
  },
  {
   "cell_type": "code",
   "execution_count": 4,
   "metadata": {},
   "outputs": [
    {
     "name": "stdout",
     "output_type": "stream",
     "text": [
      "<class 'pandas.core.frame.DataFrame'>\n",
      "RangeIndex: 508 entries, 0 to 507\n",
      "Data columns (total 14 columns):\n",
      " #   Column          Non-Null Count  Dtype  \n",
      "---  ------          --------------  -----  \n",
      " 0   brand           508 non-null    object \n",
      " 1   current_price   508 non-null    int64  \n",
      " 2   old_price       508 non-null    int64  \n",
      " 3   discount        508 non-null    int64  \n",
      " 4   description     508 non-null    object \n",
      " 5   ratings         508 non-null    float64\n",
      " 6   times_reviewed  508 non-null    int64  \n",
      " 7   rom             508 non-null    float64\n",
      " 8   ram             508 non-null    float64\n",
      " 9   battery         508 non-null    float64\n",
      " 10  camera          508 non-null    float64\n",
      " 11  sim port        508 non-null    object \n",
      " 12  screen_dim      508 non-null    float64\n",
      " 13  android_ver     508 non-null    float64\n",
      "dtypes: float64(7), int64(4), object(3)\n",
      "memory usage: 55.7+ KB\n"
     ]
    }
   ],
   "source": [
    "task.info()"
   ]
  },
  {
   "cell_type": "code",
   "execution_count": 5,
   "metadata": {},
   "outputs": [
    {
     "data": {
      "text/plain": [
       "Index(['brand', 'current_price', 'old_price', 'discount', 'description',\n",
       "       'ratings', 'times_reviewed', 'rom', 'ram', 'battery', 'camera',\n",
       "       'sim port', 'screen_dim', 'android_ver'],\n",
       "      dtype='object')"
      ]
     },
     "execution_count": 5,
     "metadata": {},
     "output_type": "execute_result"
    }
   ],
   "source": [
    "task.keys()"
   ]
  },
  {
   "cell_type": "code",
   "execution_count": 6,
   "metadata": {},
   "outputs": [
    {
     "data": {
      "text/plain": [
       "Samsung          71\n",
       "Gionee           56\n",
       "Nokia            46\n",
       "Huawei           36\n",
       "Tecno            33\n",
       "XIAOMI           30\n",
       "Infinix          23\n",
       "Itel             20\n",
       "LG               20\n",
       "Blackview        19\n",
       "Oukitel          16\n",
       "Lenovo           11\n",
       "Letv             11\n",
       "Oppo             10\n",
       "Cubot            10\n",
       "UMIDIGI           9\n",
       "Doogee            9\n",
       "Leagoo            9\n",
       "Ulefone           7\n",
       "Sony              5\n",
       "Vernee            4\n",
       "Fero              4\n",
       "Motorola          4\n",
       "Elephone          3\n",
       "Htc               3\n",
       "Asus              3\n",
       "Homtom            3\n",
       "Sharp             2\n",
       "Honor             2\n",
       "Nomu              2\n",
       "Gome              2\n",
       "Hoot              2\n",
       "Cool Pad          1\n",
       "AfriOne           1\n",
       "Hisense           1\n",
       "Sailf             1\n",
       "Leagoo Lead 7     1\n",
       "Kismo             1\n",
       "SOYES             1\n",
       "Alcatel           1\n",
       "Arashi            1\n",
       "Leeco             1\n",
       "Elite             1\n",
       "Melrose           1\n",
       "Bontel            1\n",
       "Partner           1\n",
       "Jodom             1\n",
       "M Horse           1\n",
       "Blackberry        1\n",
       "ZTE               1\n",
       "Oneplus           1\n",
       "Swiss             1\n",
       "Unicorn           1\n",
       "Desire            1\n",
       "Letv Leeco        1\n",
       "Name: brand, dtype: int64"
      ]
     },
     "execution_count": 6,
     "metadata": {},
     "output_type": "execute_result"
    }
   ],
   "source": [
    "task['brand'].value_counts()"
   ]
  },
  {
   "cell_type": "code",
   "execution_count": 7,
   "metadata": {
    "collapsed": true
   },
   "outputs": [],
   "source": [
    "#Removing phones with value counts less than 3\n",
    "brands = task.brand.value_counts()[task.brand.value_counts() > 3].index"
   ]
  },
  {
   "cell_type": "code",
   "execution_count": 8,
   "metadata": {},
   "outputs": [],
   "source": [
    "confirmed_br = task[task['brand'].isin(brands)]"
   ]
  },
  {
   "cell_type": "code",
   "execution_count": 12,
   "metadata": {},
   "outputs": [
    {
     "data": {
      "text/plain": [
       "23"
      ]
     },
     "execution_count": 12,
     "metadata": {},
     "output_type": "execute_result"
    }
   ],
   "source": [
    "len(confirmed_br['brand'].value_counts())"
   ]
  },
  {
   "cell_type": "code",
   "execution_count": 13,
   "metadata": {},
   "outputs": [],
   "source": [
    "#Finding where 50% of the phone prices (median price) fall in based on the dataset"
   ]
  },
  {
   "cell_type": "code",
   "execution_count": 14,
   "metadata": {},
   "outputs": [
    {
     "data": {
      "text/plain": [
       "53990.0"
      ]
     },
     "execution_count": 14,
     "metadata": {},
     "output_type": "execute_result"
    }
   ],
   "source": [
    "confirmed_br['current_price'].median()"
   ]
  },
  {
   "cell_type": "code",
   "execution_count": 15,
   "metadata": {},
   "outputs": [],
   "source": [
    "low_price = confirmed_br[confirmed_br['current_price'] < confirmed_br['current_price'].median()]"
   ]
  },
  {
   "cell_type": "code",
   "execution_count": 16,
   "metadata": {},
   "outputs": [
    {
     "data": {
      "text/html": [
       "<div>\n",
       "<style scoped>\n",
       "    .dataframe tbody tr th:only-of-type {\n",
       "        vertical-align: middle;\n",
       "    }\n",
       "\n",
       "    .dataframe tbody tr th {\n",
       "        vertical-align: top;\n",
       "    }\n",
       "\n",
       "    .dataframe thead th {\n",
       "        text-align: right;\n",
       "    }\n",
       "</style>\n",
       "<table border=\"1\" class=\"dataframe\">\n",
       "  <thead>\n",
       "    <tr style=\"text-align: right;\">\n",
       "      <th></th>\n",
       "      <th>brand</th>\n",
       "      <th>current_price</th>\n",
       "      <th>old_price</th>\n",
       "      <th>discount</th>\n",
       "      <th>description</th>\n",
       "      <th>ratings</th>\n",
       "      <th>times_reviewed</th>\n",
       "      <th>rom</th>\n",
       "      <th>ram</th>\n",
       "      <th>battery</th>\n",
       "      <th>camera</th>\n",
       "      <th>sim port</th>\n",
       "      <th>screen_dim</th>\n",
       "      <th>android_ver</th>\n",
       "    </tr>\n",
       "  </thead>\n",
       "  <tbody>\n",
       "    <tr>\n",
       "      <th>0</th>\n",
       "      <td>Gionee</td>\n",
       "      <td>48000</td>\n",
       "      <td>73630</td>\n",
       "      <td>-35</td>\n",
       "      <td>Gionee K3 (M100) 4GB+64GB 6.22 Inch HD+ Androi...</td>\n",
       "      <td>3.50</td>\n",
       "      <td>10</td>\n",
       "      <td>64.0</td>\n",
       "      <td>4.0</td>\n",
       "      <td>5000.0</td>\n",
       "      <td>13.0</td>\n",
       "      <td>Dual SIM</td>\n",
       "      <td>6.22</td>\n",
       "      <td>8.1</td>\n",
       "    </tr>\n",
       "    <tr>\n",
       "      <th>2</th>\n",
       "      <td>UMIDIGI</td>\n",
       "      <td>25990</td>\n",
       "      <td>29990</td>\n",
       "      <td>-13</td>\n",
       "      <td>A3S Android 10 Global Band 3950mAh 5.7\" Smartp...</td>\n",
       "      <td>4.30</td>\n",
       "      <td>99</td>\n",
       "      <td>32.0</td>\n",
       "      <td>4.0</td>\n",
       "      <td>3950.0</td>\n",
       "      <td>13.0</td>\n",
       "      <td>Triple Slots</td>\n",
       "      <td>5.70</td>\n",
       "      <td>10.0</td>\n",
       "    </tr>\n",
       "    <tr>\n",
       "      <th>3</th>\n",
       "      <td>Nokia</td>\n",
       "      <td>42990</td>\n",
       "      <td>70485</td>\n",
       "      <td>-39</td>\n",
       "      <td>3.2 3GB RAM 32GB 6.26 Inch 13MP Camera Dual SI...</td>\n",
       "      <td>4.05</td>\n",
       "      <td>104</td>\n",
       "      <td>32.0</td>\n",
       "      <td>3.0</td>\n",
       "      <td>4000.0</td>\n",
       "      <td>13.0</td>\n",
       "      <td>Dual SIM</td>\n",
       "      <td>6.26</td>\n",
       "      <td>9.0</td>\n",
       "    </tr>\n",
       "    <tr>\n",
       "      <th>4</th>\n",
       "      <td>UMIDIGI</td>\n",
       "      <td>25990</td>\n",
       "      <td>29990</td>\n",
       "      <td>-13</td>\n",
       "      <td>A3S Android 10 Global Band 3950mAh 5.7\" Smartp...</td>\n",
       "      <td>3.90</td>\n",
       "      <td>148</td>\n",
       "      <td>32.0</td>\n",
       "      <td>4.0</td>\n",
       "      <td>3950.0</td>\n",
       "      <td>13.0</td>\n",
       "      <td>Triple Slots</td>\n",
       "      <td>5.70</td>\n",
       "      <td>10.0</td>\n",
       "    </tr>\n",
       "    <tr>\n",
       "      <th>5</th>\n",
       "      <td>Gionee</td>\n",
       "      <td>37350</td>\n",
       "      <td>49990</td>\n",
       "      <td>-25</td>\n",
       "      <td>S11 Lite 5.7-Inch HD (4GB,64GB ROM) Android 7....</td>\n",
       "      <td>4.25</td>\n",
       "      <td>1145</td>\n",
       "      <td>64.0</td>\n",
       "      <td>4.0</td>\n",
       "      <td>4000.0</td>\n",
       "      <td>13.0</td>\n",
       "      <td>Dual SIM</td>\n",
       "      <td>5.70</td>\n",
       "      <td>7.1</td>\n",
       "    </tr>\n",
       "  </tbody>\n",
       "</table>\n",
       "</div>"
      ],
      "text/plain": [
       "     brand  current_price  old_price  discount  \\\n",
       "0   Gionee          48000      73630       -35   \n",
       "2  UMIDIGI          25990      29990       -13   \n",
       "3    Nokia          42990      70485       -39   \n",
       "4  UMIDIGI          25990      29990       -13   \n",
       "5   Gionee          37350      49990       -25   \n",
       "\n",
       "                                         description  ratings  times_reviewed  \\\n",
       "0  Gionee K3 (M100) 4GB+64GB 6.22 Inch HD+ Androi...     3.50              10   \n",
       "2  A3S Android 10 Global Band 3950mAh 5.7\" Smartp...     4.30              99   \n",
       "3  3.2 3GB RAM 32GB 6.26 Inch 13MP Camera Dual SI...     4.05             104   \n",
       "4  A3S Android 10 Global Band 3950mAh 5.7\" Smartp...     3.90             148   \n",
       "5  S11 Lite 5.7-Inch HD (4GB,64GB ROM) Android 7....     4.25            1145   \n",
       "\n",
       "    rom  ram  battery  camera      sim port  screen_dim  android_ver  \n",
       "0  64.0  4.0   5000.0    13.0      Dual SIM        6.22          8.1  \n",
       "2  32.0  4.0   3950.0    13.0  Triple Slots        5.70         10.0  \n",
       "3  32.0  3.0   4000.0    13.0      Dual SIM        6.26          9.0  \n",
       "4  32.0  4.0   3950.0    13.0  Triple Slots        5.70         10.0  \n",
       "5  64.0  4.0   4000.0    13.0      Dual SIM        5.70          7.1  "
      ]
     },
     "execution_count": 16,
     "metadata": {},
     "output_type": "execute_result"
    }
   ],
   "source": [
    "low_price.head()"
   ]
  },
  {
   "cell_type": "code",
   "execution_count": 17,
   "metadata": {},
   "outputs": [
    {
     "name": "stdout",
     "output_type": "stream",
     "text": [
      "<class 'pandas.core.frame.DataFrame'>\n",
      "Int64Index: 231 entries, 0 to 507\n",
      "Data columns (total 14 columns):\n",
      " #   Column          Non-Null Count  Dtype  \n",
      "---  ------          --------------  -----  \n",
      " 0   brand           231 non-null    object \n",
      " 1   current_price   231 non-null    int64  \n",
      " 2   old_price       231 non-null    int64  \n",
      " 3   discount        231 non-null    int64  \n",
      " 4   description     231 non-null    object \n",
      " 5   ratings         231 non-null    float64\n",
      " 6   times_reviewed  231 non-null    int64  \n",
      " 7   rom             231 non-null    float64\n",
      " 8   ram             231 non-null    float64\n",
      " 9   battery         231 non-null    float64\n",
      " 10  camera          231 non-null    float64\n",
      " 11  sim port        231 non-null    object \n",
      " 12  screen_dim      231 non-null    float64\n",
      " 13  android_ver     231 non-null    float64\n",
      "dtypes: float64(7), int64(4), object(3)\n",
      "memory usage: 27.1+ KB\n"
     ]
    }
   ],
   "source": [
    "low_price.info()"
   ]
  },
  {
   "cell_type": "code",
   "execution_count": 18,
   "metadata": {},
   "outputs": [
    {
     "data": {
      "text/plain": [
       "4.2"
      ]
     },
     "execution_count": 18,
     "metadata": {},
     "output_type": "execute_result"
    }
   ],
   "source": [
    "#Selecting good ratings from the low cost phones \n",
    "low_price['ratings'].median()"
   ]
  },
  {
   "cell_type": "code",
   "execution_count": 19,
   "metadata": {},
   "outputs": [],
   "source": [
    "high_ratings = low_price[low_price['ratings'] > low_price['ratings'].median()]"
   ]
  },
  {
   "cell_type": "code",
   "execution_count": 25,
   "metadata": {},
   "outputs": [
    {
     "data": {
      "text/plain": [
       "22"
      ]
     },
     "execution_count": 25,
     "metadata": {},
     "output_type": "execute_result"
    }
   ],
   "source": [
    "len(high_ratings['brand'].value_counts())"
   ]
  },
  {
   "cell_type": "code",
   "execution_count": 26,
   "metadata": {},
   "outputs": [],
   "source": [
    "#Using good battery life to further select good quality from the low cost phones\n",
    "bat = high_ratings[high_ratings['battery'] > high_ratings['battery'].median()]"
   ]
  },
  {
   "cell_type": "code",
   "execution_count": 30,
   "metadata": {},
   "outputs": [
    {
     "data": {
      "text/plain": [
       "Infinix    3\n",
       "Itel       3\n",
       "Gionee     3\n",
       "Ulefone    2\n",
       "Tecno      1\n",
       "XIAOMI     1\n",
       "Vernee     1\n",
       "Oukitel    1\n",
       "Lenovo     1\n",
       "Name: brand, dtype: int64"
      ]
     },
     "execution_count": 30,
     "metadata": {},
     "output_type": "execute_result"
    }
   ],
   "source": [
    "bat['brand'].value_counts()"
   ]
  },
  {
   "cell_type": "code",
   "execution_count": 33,
   "metadata": {},
   "outputs": [
    {
     "data": {
      "text/plain": [
       "16"
      ]
     },
     "execution_count": 33,
     "metadata": {},
     "output_type": "execute_result"
    }
   ],
   "source": [
    "len(bat)"
   ]
  },
  {
   "cell_type": "code",
   "execution_count": 35,
   "metadata": {},
   "outputs": [],
   "source": [
    "final_result = bat[['brand', 'description']]"
   ]
  },
  {
   "cell_type": "code",
   "execution_count": 37,
   "metadata": {},
   "outputs": [
    {
     "name": "stdout",
     "output_type": "stream",
     "text": [
      "From my analysis, \n",
      "here are the best low cost phones with their specifications, within this dataset, I would recommend you purchase for your startup \n"
     ]
    },
    {
     "data": {
      "text/html": [
       "<style  type=\"text/css\" >\n",
       "</style><table id=\"T_1848a0c1_716e_11eb_8298_544249f480cd\" ><thead>    <tr>        <th class=\"blank level0\" ></th>        <th class=\"col_heading level0 col0\" >brand</th>        <th class=\"col_heading level0 col1\" >description</th>    </tr></thead><tbody>\n",
       "                <tr>\n",
       "                        <th id=\"T_1848a0c1_716e_11eb_8298_544249f480cdlevel0_row0\" class=\"row_heading level0 row0\" >42</th>\n",
       "                        <td id=\"T_1848a0c1_716e_11eb_8298_544249f480cdrow0_col0\" class=\"data row0 col0\" >Ulefone</td>\n",
       "                        <td id=\"T_1848a0c1_716e_11eb_8298_544249f480cdrow0_col1\" class=\"data row0 col1\" >Armor X5 4G Phablet 5.5 Inch Android 9.0 MT6763 3GB RAM 32GB ROM 13MP + 2.0MP Rear Camera 5000mAh Battery-Black</td>\n",
       "            </tr>\n",
       "            <tr>\n",
       "                        <th id=\"T_1848a0c1_716e_11eb_8298_544249f480cdlevel0_row1\" class=\"row_heading level0 row1\" >51</th>\n",
       "                        <td id=\"T_1848a0c1_716e_11eb_8298_544249f480cdrow1_col0\" class=\"data row1 col0\" >Infinix</td>\n",
       "                        <td id=\"T_1848a0c1_716e_11eb_8298_544249f480cdrow1_col1\" class=\"data row1 col1\" >HOT 8 LITE (X650) 6.6\" HD+ 2GB RAM + 32GB ROM, 5000mAh, Andriod 8.1 (8MP+QVGA) Dual Camera +8MP 3G - Black</td>\n",
       "            </tr>\n",
       "            <tr>\n",
       "                        <th id=\"T_1848a0c1_716e_11eb_8298_544249f480cdlevel0_row2\" class=\"row_heading level0 row2\" >76</th>\n",
       "                        <td id=\"T_1848a0c1_716e_11eb_8298_544249f480cdrow2_col0\" class=\"data row2 col0\" >Gionee</td>\n",
       "                        <td id=\"T_1848a0c1_716e_11eb_8298_544249f480cdrow2_col1\" class=\"data row2 col1\" >M7 Power 6 Inch 4GB RAM 64GB ROM 13MP+8MP Hybrid Dual SIM Android 7.1 4G LTE Smartphone 5000mAh</td>\n",
       "            </tr>\n",
       "            <tr>\n",
       "                        <th id=\"T_1848a0c1_716e_11eb_8298_544249f480cdlevel0_row3\" class=\"row_heading level0 row3\" >87</th>\n",
       "                        <td id=\"T_1848a0c1_716e_11eb_8298_544249f480cdrow3_col0\" class=\"data row3 col0\" >Infinix</td>\n",
       "                        <td id=\"T_1848a0c1_716e_11eb_8298_544249f480cdrow3_col1\" class=\"data row3 col1\" >HOT 8, 6.6\" HD+ AndriodTM 9 Pie, (2GB RAM, 32GB ROM) (13+2MP/Rear & 8MP/Front), 5000mAh 4G LTE+ Free Bluetooth</td>\n",
       "            </tr>\n",
       "            <tr>\n",
       "                        <th id=\"T_1848a0c1_716e_11eb_8298_544249f480cdlevel0_row4\" class=\"row_heading level0 row4\" >97</th>\n",
       "                        <td id=\"T_1848a0c1_716e_11eb_8298_544249f480cdrow4_col0\" class=\"data row4 col0\" >Gionee</td>\n",
       "                        <td id=\"T_1848a0c1_716e_11eb_8298_544249f480cdrow4_col1\" class=\"data row4 col1\" >M7 Power 6 Inch 4GB RAM 64GB ROM 13MP+8MP Hybrid Dual SIM Android 7.1 4G LTE Smartphone 5000mAh</td>\n",
       "            </tr>\n",
       "            <tr>\n",
       "                        <th id=\"T_1848a0c1_716e_11eb_8298_544249f480cdlevel0_row5\" class=\"row_heading level0 row5\" >112</th>\n",
       "                        <td id=\"T_1848a0c1_716e_11eb_8298_544249f480cdrow5_col0\" class=\"data row5 col0\" >Itel</td>\n",
       "                        <td id=\"T_1848a0c1_716e_11eb_8298_544249f480cdrow5_col1\" class=\"data row5 col1\" >P33 PLUS 6.0\", 5000mAh Battery, Android 8.1, (16GB ROM, 1GB), Dual Rear Camera, Fingerprint + FREE 32GB CARD & CASE- Gold</td>\n",
       "            </tr>\n",
       "            <tr>\n",
       "                        <th id=\"T_1848a0c1_716e_11eb_8298_544249f480cdlevel0_row6\" class=\"row_heading level0 row6\" >129</th>\n",
       "                        <td id=\"T_1848a0c1_716e_11eb_8298_544249f480cdrow6_col0\" class=\"data row6 col0\" >Itel</td>\n",
       "                        <td id=\"T_1848a0c1_716e_11eb_8298_544249f480cdrow6_col1\" class=\"data row6 col1\" >P33 Plus 6.0\" Android 8.1, 5000mAh, 16GB+1GB RAM, Dual Rear Camera Fingerprint & Face Unlock - Champagne Gold</td>\n",
       "            </tr>\n",
       "            <tr>\n",
       "                        <th id=\"T_1848a0c1_716e_11eb_8298_544249f480cdlevel0_row7\" class=\"row_heading level0 row7\" >184</th>\n",
       "                        <td id=\"T_1848a0c1_716e_11eb_8298_544249f480cdrow7_col0\" class=\"data row7 col0\" >Itel</td>\n",
       "                        <td id=\"T_1848a0c1_716e_11eb_8298_544249f480cdrow7_col1\" class=\"data row7 col1\" >P33 Plus 6.0\" Android 8.1, 5000mAh, 16GB+1GB RAM, Dual Rear Camera, Fingerprint & Face Unlock -Gradation Blue +32GB CARD</td>\n",
       "            </tr>\n",
       "            <tr>\n",
       "                        <th id=\"T_1848a0c1_716e_11eb_8298_544249f480cdlevel0_row8\" class=\"row_heading level0 row8\" >188</th>\n",
       "                        <td id=\"T_1848a0c1_716e_11eb_8298_544249f480cdrow8_col0\" class=\"data row8 col0\" >XIAOMI</td>\n",
       "                        <td id=\"T_1848a0c1_716e_11eb_8298_544249f480cdrow8_col1\" class=\"data row8 col1\" >Redmi 8 4GB RAM 64GB ROM Mobile Phone Snapdragon 439 Octa Core 12MP Dual Camera 5000mAh Battery</td>\n",
       "            </tr>\n",
       "            <tr>\n",
       "                        <th id=\"T_1848a0c1_716e_11eb_8298_544249f480cdlevel0_row9\" class=\"row_heading level0 row9\" >213</th>\n",
       "                        <td id=\"T_1848a0c1_716e_11eb_8298_544249f480cdrow9_col0\" class=\"data row9 col0\" >Infinix</td>\n",
       "                        <td id=\"T_1848a0c1_716e_11eb_8298_544249f480cdrow9_col1\" class=\"data row9 col1\" >HOT 8, 6.6\" HD+ AndriodTM 9 Pie, (2GB RAM, 32GB ROM) (13+2MP/Rear & 8MP/Front), 5000mAh 4G LTE+ Free 32GB Memory Card</td>\n",
       "            </tr>\n",
       "            <tr>\n",
       "                        <th id=\"T_1848a0c1_716e_11eb_8298_544249f480cdlevel0_row10\" class=\"row_heading level0 row10\" >373</th>\n",
       "                        <td id=\"T_1848a0c1_716e_11eb_8298_544249f480cdrow10_col0\" class=\"data row10 col0\" >Lenovo</td>\n",
       "                        <td id=\"T_1848a0c1_716e_11eb_8298_544249f480cdrow10_col1\" class=\"data row10 col1\" >K5 Pro 4050mAH 4GB RAM+64GB ROM,5.99inch Mobile Phone Snapdragon636 Octa Core 4G LTE Smartphone-black</td>\n",
       "            </tr>\n",
       "            <tr>\n",
       "                        <th id=\"T_1848a0c1_716e_11eb_8298_544249f480cdlevel0_row11\" class=\"row_heading level0 row11\" >412</th>\n",
       "                        <td id=\"T_1848a0c1_716e_11eb_8298_544249f480cdrow11_col0\" class=\"data row11 col0\" >Ulefone</td>\n",
       "                        <td id=\"T_1848a0c1_716e_11eb_8298_544249f480cdrow11_col1\" class=\"data row11 col1\" >Armor X5 Rugged Phone, 3GB+32GB, 5.5 Inch Android 9.0, 5000mAh Battery, 4G Smartphone - Orange</td>\n",
       "            </tr>\n",
       "            <tr>\n",
       "                        <th id=\"T_1848a0c1_716e_11eb_8298_544249f480cdlevel0_row12\" class=\"row_heading level0 row12\" >448</th>\n",
       "                        <td id=\"T_1848a0c1_716e_11eb_8298_544249f480cdrow12_col0\" class=\"data row12 col0\" >Vernee</td>\n",
       "                        <td id=\"T_1848a0c1_716e_11eb_8298_544249f480cdrow12_col1\" class=\"data row12 col1\" >5.5 Inch 18:9 Bezel-less Full Screen Smartphone 3GB RAM 16GB ROM Mobile Phone Android 8.1 MTK6739 Quad Core 4080mAh 13MP Dual Rear Cameras 4G LTE Cellphone</td>\n",
       "            </tr>\n",
       "            <tr>\n",
       "                        <th id=\"T_1848a0c1_716e_11eb_8298_544249f480cdlevel0_row13\" class=\"row_heading level0 row13\" >452</th>\n",
       "                        <td id=\"T_1848a0c1_716e_11eb_8298_544249f480cdrow13_col0\" class=\"data row13 col0\" >Gionee</td>\n",
       "                        <td id=\"T_1848a0c1_716e_11eb_8298_544249f480cdrow13_col1\" class=\"data row13 col1\" >M6 5.5'HD 4G RAM+64G ROM 13MP 8MP Camera 5000mAh Battery Android OS 4G Smartphone</td>\n",
       "            </tr>\n",
       "            <tr>\n",
       "                        <th id=\"T_1848a0c1_716e_11eb_8298_544249f480cdlevel0_row14\" class=\"row_heading level0 row14\" >459</th>\n",
       "                        <td id=\"T_1848a0c1_716e_11eb_8298_544249f480cdrow14_col0\" class=\"data row14 col0\" >Oukitel</td>\n",
       "                        <td id=\"T_1848a0c1_716e_11eb_8298_544249f480cdrow14_col1\" class=\"data row14 col1\" >K7 Pro 6-inch 4GB RAM 64GB ROM 10000mAh Battery Android 9.0 - BLACK</td>\n",
       "            </tr>\n",
       "            <tr>\n",
       "                        <th id=\"T_1848a0c1_716e_11eb_8298_544249f480cdlevel0_row15\" class=\"row_heading level0 row15\" >491</th>\n",
       "                        <td id=\"T_1848a0c1_716e_11eb_8298_544249f480cdrow15_col0\" class=\"data row15 col0\" >Tecno</td>\n",
       "                        <td id=\"T_1848a0c1_716e_11eb_8298_544249f480cdrow15_col1\" class=\"data row15 col1\" >Pouvoir 3 Air  6.0\" 5000mAh, Android™ 9.0, 16GB+ 1GB RAM, 4G LTE, 8+8MP Camera, 2.0GHz Face ID, Fingerprint - Black</td>\n",
       "            </tr>\n",
       "    </tbody></table>"
      ],
      "text/plain": [
       "<pandas.io.formats.style.Styler at 0x23a15298670>"
      ]
     },
     "execution_count": 37,
     "metadata": {},
     "output_type": "execute_result"
    }
   ],
   "source": [
    "# conclusion\n",
    "\n",
    "print(\"\"\"From my analysis, \n",
    "here are the best low cost phones with their specifications, within this dataset, I would recommend you purchase for your startup \"\"\")\n",
    "final_result.style"
   ]
  }
 ],
 "metadata": {
  "kernelspec": {
   "display_name": "Python 3",
   "language": "python",
   "name": "python3"
  },
  "language_info": {
   "codemirror_mode": {
    "name": "ipython",
    "version": 3
   },
   "file_extension": ".py",
   "mimetype": "text/x-python",
   "name": "python",
   "nbconvert_exporter": "python",
   "pygments_lexer": "ipython3",
   "version": "3.8.5"
  }
 },
 "nbformat": 4,
 "nbformat_minor": 4
}
